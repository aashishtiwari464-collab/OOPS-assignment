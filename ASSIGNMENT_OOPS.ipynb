{
  "cells": [
    {
      "cell_type": "markdown",
      "metadata": {
        "id": "r2SmhNYtkyFv"
      },
      "source": [
        "# **Theory Question's**\n",
        "\n",
        "---\n",
        "\n"
      ]
    },
    {
      "cell_type": "markdown",
      "metadata": {
        "id": "9LPa8f3TpJ1B"
      },
      "source": [
        "#Q 1.  What is Object-Oriented Programming (OOP)?\n",
        "\n",
        "-  Object-Oriented Programming (OOP) is a way of programming that organizes code into objects, which combine data  and methods together.\n",
        "-  It helps make programs easier to understand, reuse, and maintain."
      ]
    },
    {
      "cell_type": "code",
      "execution_count": 57,
      "metadata": {
        "colab": {
          "base_uri": "https://localhost:8080/"
        },
        "id": "ReTVR6sSrr3Z",
        "outputId": "71815792-2cf2-4c9e-afe7-a17370ebd513"
      },
      "outputs": [
        {
          "output_type": "stream",
          "name": "stdout",
          "text": [
            "Aashish 88\n"
          ]
        }
      ],
      "source": [
        "class Student:\n",
        "    def __init__(self, name, marks):\n",
        "        self.name = name\n",
        "        self.marks = marks\n",
        "\n",
        "    def result(self):\n",
        "        print(self.name, self.marks)\n",
        "\n",
        "\n",
        "student1 = Student(\"Aashish\",88)\n",
        "student1.result()"
      ]
    },
    {
      "cell_type": "markdown",
      "metadata": {
        "id": "uOd7Ow2prRQH"
      },
      "source": [
        "---\n",
        "#Q 2.  What is a class in OOP?\n",
        "\n",
        "-  The class is the blueprint and the template for the creating of objects.\n",
        "\n",
        "- It defines variables and methods / functions that the  objects will have."
      ]
    },
    {
      "cell_type": "code",
      "execution_count": 58,
      "metadata": {
        "id": "2V0bR6_5t1v3"
      },
      "outputs": [],
      "source": [
        "class Student:\n",
        "    def __init__(self, name):\n",
        "        self.name = name"
      ]
    },
    {
      "cell_type": "markdown",
      "metadata": {
        "id": "jy4NaEXqt7Av"
      },
      "source": [
        "---\n",
        "# Q 3. What is an object in OOP?\n",
        "\n",
        "- An object is an instance of a class.\n",
        "- It will give an a specific example of a class templete / blueprint"
      ]
    },
    {
      "cell_type": "code",
      "execution_count": 59,
      "metadata": {
        "colab": {
          "base_uri": "https://localhost:8080/",
          "height": 36
        },
        "id": "AHbfGmNOup8d",
        "outputId": "34933166-f9b9-44cb-aa2d-5707b13657cd"
      },
      "outputs": [
        {
          "output_type": "execute_result",
          "data": {
            "text/plain": [
              "'Aashish'"
            ],
            "application/vnd.google.colaboratory.intrinsic+json": {
              "type": "string"
            }
          },
          "metadata": {},
          "execution_count": 59
        }
      ],
      "source": [
        "class Student:\n",
        "    def __init__(self, name):\n",
        "        self.name = name\n",
        "\n",
        "student1 = Student(\"Aashish\")\n",
        "student1.name"
      ]
    },
    {
      "cell_type": "markdown",
      "metadata": {
        "id": "1FLQB5Iqu7h_"
      },
      "source": [
        "---\n",
        "# Q 4. What is the difference between abstraction and encapsulation ?\n",
        "\n",
        "\n",
        "1.  Abstraction\n",
        "\n",
        "-  This is an hidden enternal details\n",
        "-  Using Car we knew about the break , handle , speed  but we dont know about the engine that how that were working\n",
        "\n",
        "2.   Encapsulation\n",
        "\n",
        "-  This is an binding the data and methods and restrict the access of the data\n",
        "\n",
        "- private variable were be define as a (__variable)\n",
        "\n"
      ]
    },
    {
      "cell_type": "code",
      "execution_count": 60,
      "metadata": {
        "colab": {
          "base_uri": "https://localhost:8080/"
        },
        "id": "FNKE58o7xFBf",
        "outputId": "fcff03fb-ea49-410c-f1e1-096584df4750"
      },
      "outputs": [
        {
          "output_type": "stream",
          "name": "stdout",
          "text": [
            "7\n",
            "1000\n"
          ]
        }
      ],
      "source": [
        "# Abstraction\n",
        "\n",
        "a = len(\"Aashish\") # it will count the len but we dont know how it were internally\n",
        "print(a)\n",
        "\n",
        "# Encapsulated\n",
        "\n",
        "class Bank:\n",
        "    def __init__(self):\n",
        "        self.__balance = 1000\n",
        "b1 = Bank()\n",
        "print(b1._Bank__balance)"
      ]
    },
    {
      "cell_type": "markdown",
      "metadata": {
        "id": "uFj6tt7HyLQe"
      },
      "source": [
        "---\n",
        "# Q 5. What are dunder methods in Python?\n",
        "\n",
        "- Dunder method is stands for double underscore .\n",
        "- They are also called as a magic and special method.\n",
        "- This were represent by this method some example -"
      ]
    },
    {
      "cell_type": "code",
      "execution_count": 61,
      "metadata": {
        "colab": {
          "base_uri": "https://localhost:8080/"
        },
        "id": "imULl6ro1O-A",
        "outputId": "1142a8ce-e423-41db-f050-5935591def0d"
      },
      "outputs": [
        {
          "output_type": "stream",
          "name": "stdout",
          "text": [
            "Aashish\n",
            "6 4\n"
          ]
        }
      ],
      "source": [
        "# __init__     ,      __str__      ,       __add__\n",
        "\n",
        "# __init__\n",
        "\n",
        "class Person:\n",
        "    def __init__(self, name):\n",
        "        self.name = name\n",
        "\n",
        "p = Person(\"Aashish\")\n",
        "print(p.name)\n",
        "\n",
        "\n",
        "\n",
        "# __add__\n",
        "\n",
        "class Adding_two_object_by_add_method:\n",
        "    def __init__(self, x, y):\n",
        "        self.x, self.y = x, y\n",
        "    def __add__(self, other):\n",
        "        return Adding_two_object_by_add_method(self.x + other.x, self.y + other.y)\n",
        "\n",
        "v1 = Adding_two_object_by_add_method(2, 3)\n",
        "v2 = Adding_two_object_by_add_method(4, 1)\n",
        "v3 = v1 + v2\n",
        "print(v3.x, v3.y)  # 6 4\n"
      ]
    },
    {
      "cell_type": "markdown",
      "metadata": {
        "id": "XJ0OkPc71huf"
      },
      "source": [
        "---\n",
        "# Q 6. Explain the concept of inheritance in OOP ?\n",
        "\n",
        "-  Inheritance means that the child class a derived class get a method and attribute from the base class or parent class .\n",
        "-  The child class inherits attributes and methods from the parent.\n",
        "\n",
        "# Types of inheritance :-\n",
        "- Single inheritance - single-parent to child\n",
        "- Multi-level inheritance - parent to child to grandchild and so more\n",
        "- Multiple inheritance - from multiple parent to a child\n",
        "- Hierarchical inheritance - from one parent to multiple child\n",
        "- Hybrid inheritance - the combine of Hierarchical inheritance and Multiple inheritance.\n",
        "\n",
        "\n",
        "\n",
        "#⏬   Example of  - Hybrid inheritance"
      ]
    },
    {
      "cell_type": "code",
      "execution_count": 62,
      "metadata": {
        "colab": {
          "base_uri": "https://localhost:8080/"
        },
        "id": "eGZ40gfVhF_u",
        "outputId": "6d9d9a70-1422-4969-cf82-04ed945500c9"
      },
      "outputs": [
        {
          "output_type": "stream",
          "name": "stdout",
          "text": [
            "Feature D\n",
            "Feature D\n",
            "Feature B\n",
            "Feature A\n"
          ]
        }
      ],
      "source": [
        "class A:\n",
        "  def feature_A(self):\n",
        "    print(\"Feature A\")\n",
        "\n",
        "class B(A):\n",
        "  def feature_B(self):\n",
        "    print(\"Feature B\")\n",
        "\n",
        "class C(A):\n",
        "  def feature_C(self):\n",
        "    print(\"Feature C\")\n",
        "\n",
        "class D(B,C):\n",
        "  def feature_C(self):\n",
        "    print(\"Feature D\")\n",
        "\n",
        "d1 = D()\n",
        "d1.feature_C()\n",
        "d1.feature_C()\n",
        "d1.feature_B()\n",
        "d1.feature_A()"
      ]
    },
    {
      "cell_type": "markdown",
      "metadata": {
        "id": "pMrjr5g3iq85"
      },
      "source": [
        "---\n",
        "# Q 7. What is polymorphism in OOP ?\n",
        "\n",
        "-  Polymorphism means “many forms”.\n",
        "-  The same method name can behave differently in different classes."
      ]
    },
    {
      "cell_type": "code",
      "execution_count": 63,
      "metadata": {
        "id": "jcBxF_NfjvP2"
      },
      "outputs": [],
      "source": [
        "class Dog:\n",
        "  def sound(self):\n",
        "    return \"Dog barks\"\n",
        "\n",
        "class Cat:\n",
        "  def sound(self):\n",
        "    return \"Cat meows\"\n",
        "\n",
        "\n",
        "def make_sound(x):\n",
        "  print(x.sound())"
      ]
    },
    {
      "cell_type": "markdown",
      "metadata": {
        "id": "T7Ry0tn8o3Ip"
      },
      "source": [
        "---\n",
        "# Q 8. How is encapsulation achieved in Python?\n",
        "- Encapsulation in Python is primarily achieved through  using a double underscore prefix, e.g., __variable\n",
        "b-  convention (using a single underscore prefix, e.g., _variable)."
      ]
    },
    {
      "cell_type": "code",
      "execution_count": 64,
      "metadata": {
        "colab": {
          "base_uri": "https://localhost:8080/"
        },
        "id": "2G63I5ySqUnB",
        "outputId": "9120613b-bad4-4c31-a1d0-fb45da443d14"
      },
      "outputs": [
        {
          "output_type": "stream",
          "name": "stdout",
          "text": [
            "Aashish\n",
            "mp\n",
            "1000\n"
          ]
        }
      ],
      "source": [
        "class Account:\n",
        "    def __init__(self):\n",
        "        self.__balance = 1000\n",
        "        self._address = \"mp\"\n",
        "        self.name = \"Aashish\"\n",
        "\n",
        "account = Account()\n",
        "print(account.name)\n",
        "print(account._address)\n",
        "print(account._Account__balance)"
      ]
    },
    {
      "cell_type": "markdown",
      "metadata": {
        "id": "tfWIDD-As98D"
      },
      "source": [
        "---\n",
        "#Q 9.What is a constructor in Python?\n",
        "-   A constructor — it initializes object attributes automatically when an object is created.\n",
        "\n",
        "```\n",
        "__init__()\n",
        "```\n"
      ]
    },
    {
      "cell_type": "code",
      "execution_count": 65,
      "metadata": {
        "colab": {
          "base_uri": "https://localhost:8080/"
        },
        "id": "NK2WCztluFtA",
        "outputId": "7733dc84-4322-4509-f411-5bd99069b3a0"
      },
      "outputs": [
        {
          "output_type": "stream",
          "name": "stdout",
          "text": [
            "Toyota\n"
          ]
        }
      ],
      "source": [
        "class Car:\n",
        "    def __init__(self, brand):\n",
        "        self.brand = brand\n",
        "c1 = Car(\"Toyota\")\n",
        "print(c1.brand)"
      ]
    },
    {
      "cell_type": "markdown",
      "metadata": {
        "id": "r1tgqOk7uMrh"
      },
      "source": [
        "---\n",
        "# Q 10. What are class and static methods in Python?\n",
        "\n",
        "1. @classmethod → works on the class level (cls parameter).\n",
        "- Takes a cls as first parameter, can modify class state.\n",
        "2. @staticmethod → independent utility method.\n",
        "- Doesn't take any special parameter, can't modify class/instanse state"
      ]
    },
    {
      "cell_type": "code",
      "execution_count": 66,
      "metadata": {
        "colab": {
          "base_uri": "https://localhost:8080/"
        },
        "id": "D08-15a-xL8z",
        "outputId": "fb6dcc23-2288-4ba1-d6d9-1ad5b9c48b1f"
      },
      "outputs": [
        {
          "output_type": "stream",
          "name": "stdout",
          "text": [
            "1\n",
            "3\n"
          ]
        }
      ],
      "source": [
        "class Math:\n",
        "  count = 0\n",
        "  @classmethod\n",
        "  def count_increment(cls):\n",
        "    cls.count += 1\n",
        "\n",
        "  @staticmethod\n",
        "  def add(a, b):\n",
        "    return a + b\n",
        "\n",
        "Math.count_increment()\n",
        "print(Math.count)\n",
        "print(Math.add(1, 2))"
      ]
    },
    {
      "cell_type": "markdown",
      "metadata": {
        "id": "c93J3A7DxMv3"
      },
      "source": [
        "---\n",
        "#Q 11. What is method overloading in Python?\n",
        "\n",
        "- Having multiple methods with the same name but different arguments.\n",
        "- Python doesn't support true overloading in traditional method overloading but we can simulate it."
      ]
    },
    {
      "cell_type": "code",
      "execution_count": 67,
      "metadata": {
        "colab": {
          "base_uri": "https://localhost:8080/"
        },
        "id": "_1al98bnzmKL",
        "outputId": "33752bf4-e1e5-487d-839c-b8b9a3123acd"
      },
      "outputs": [
        {
          "output_type": "stream",
          "name": "stdout",
          "text": [
            "3\n",
            "6\n"
          ]
        }
      ],
      "source": [
        "class Mathops:\n",
        "  def add(self,a,b,c=0):\n",
        "    return a+b+c\n",
        "\n",
        "m = Mathops()\n",
        "print(m.add(1,2))\n",
        "print(m.add(1,2,3))"
      ]
    },
    {
      "cell_type": "markdown",
      "metadata": {
        "id": "QieWvbWsy8qW"
      },
      "source": [
        "---\n",
        "# Q 12. What is method overriding in OOP?\n",
        "\n",
        "-  A child class can redefine a parent class method with the same name"
      ]
    },
    {
      "cell_type": "code",
      "execution_count": 68,
      "metadata": {
        "colab": {
          "base_uri": "https://localhost:8080/"
        },
        "id": "dNLK_ogYyg9U",
        "outputId": "54513a9a-a9fd-40df-a3b9-10f70a76b101"
      },
      "outputs": [
        {
          "output_type": "stream",
          "name": "stdout",
          "text": [
            "Animal make sound\n",
            "Dog bark\n"
          ]
        }
      ],
      "source": [
        "class Animal:\n",
        "  def sound(self):\n",
        "    print(\"Animal make sound\")\n",
        "\n",
        "class Dog(Animal):\n",
        "  def sound(self):\n",
        "    print(\"Dog bark\")\n",
        "\n",
        "\n",
        "a = Animal()\n",
        "a.sound()\n",
        "\n",
        "d = Dog()\n",
        "d.sound()"
      ]
    },
    {
      "cell_type": "markdown",
      "metadata": {
        "id": "gFtuiQ8q0eNr"
      },
      "source": [
        "---\n",
        "# Q 13. What is a property decorator in Python?\n",
        "-  @property makes a method act like an attribute (getter)."
      ]
    },
    {
      "cell_type": "code",
      "execution_count": 69,
      "metadata": {
        "colab": {
          "base_uri": "https://localhost:8080/"
        },
        "id": "N9fkc4Vc03qT",
        "outputId": "5565f336-58a5-4c77-f838-c7b101ed5db1"
      },
      "outputs": [
        {
          "output_type": "stream",
          "name": "stdout",
          "text": [
            "A\n"
          ]
        }
      ],
      "source": [
        "class Student:\n",
        "    def __init__(self, marks):\n",
        "        self._marks = marks\n",
        "\n",
        "    @property\n",
        "    def grade(self):\n",
        "        return \"A\" if self._marks > 80 else \"B\"\n",
        "\n",
        "\n",
        "mark_of_student = Student(90)\n",
        "print(mark_of_student.grade)"
      ]
    },
    {
      "cell_type": "markdown",
      "metadata": {
        "id": "KEVLWdpI041j"
      },
      "source": [
        "---\n",
        "# Q 14. Why is polymorphism important in OOP?\n",
        "\n",
        "-  It allows code to work with different object types through a common interface — improving flexibility."
      ]
    },
    {
      "cell_type": "code",
      "execution_count": 70,
      "metadata": {
        "colab": {
          "base_uri": "https://localhost:8080/"
        },
        "id": "z2Hjl04y2ZUh",
        "outputId": "be35921f-9789-48ef-d949-912753c6c015"
      },
      "outputs": [
        {
          "output_type": "stream",
          "name": "stdout",
          "text": [
            "Dog barks\n",
            "Cat meows\n"
          ]
        }
      ],
      "source": [
        "class Dog:\n",
        "  def sound(self):\n",
        "    return \"Dog barks\"\n",
        "\n",
        "class Cat:\n",
        "  def sound(self):\n",
        "    return \"Cat meows\"\n",
        "\n",
        "\n",
        "def make_sound(x):\n",
        "  print(x.sound())\n",
        "\n",
        "make_sound(Dog())\n",
        "make_sound(Cat())"
      ]
    },
    {
      "cell_type": "markdown",
      "metadata": {
        "id": "clQUH7OP2b8r"
      },
      "source": [
        "---\n",
        "#Q 15. What is an abstract class in Python?\n",
        "\n",
        "-  An abstract class has one or more abstract methods (not implemented).\n",
        "-  Defined using the abc module."
      ]
    },
    {
      "cell_type": "code",
      "execution_count": 71,
      "metadata": {
        "colab": {
          "base_uri": "https://localhost:8080/"
        },
        "id": "l5KO6EUt3S2l",
        "outputId": "e33bba42-c82f-4382-dce8-32fd31550234"
      },
      "outputs": [
        {
          "output_type": "stream",
          "name": "stdout",
          "text": [
            "Dog barks\n",
            "None\n",
            "Cat meows\n",
            "None\n"
          ]
        }
      ],
      "source": [
        "# abc = Abstract Base class module\n",
        "\n",
        "from abc import ABC,abstractmethod\n",
        "\n",
        "class Animal(ABC):\n",
        "  @abstractmethod\n",
        "  def sound(self):\n",
        "    pass\n",
        "\n",
        "class Dog(Animal):\n",
        "  def sound(self):\n",
        "    print(\"Dog barks\")\n",
        "\n",
        "class Cat(Animal):\n",
        "  def sound(self):\n",
        "    print(\"Cat meows\")\n",
        "\n",
        "\n",
        "d = Dog()\n",
        "c = Cat()\n",
        "print(d.sound())\n",
        "print(c.sound())"
      ]
    },
    {
      "cell_type": "markdown",
      "metadata": {
        "id": "uy_lyde_3m27"
      },
      "source": [
        "---\n",
        "#Q 16. What are the advantages of OOP?\n",
        "\n",
        "-  Code Reusability\n",
        "-  Easier Maintenance\n",
        "- Data Security (Encapsulation)\n",
        "- Real-world Modeling\n",
        "- Flexibility (Polymorphism)"
      ]
    },
    {
      "cell_type": "markdown",
      "metadata": {
        "id": "L_sV3pNA4ZIc"
      },
      "source": [
        "---\n",
        "# Q 17. What is the difference between class variable and instance variable ?\n",
        "\n",
        "1. class variable : shared by all instances of class.\n",
        "- school\n",
        "2. Instance variable : Unique for each object.\n",
        "- self.name"
      ]
    },
    {
      "cell_type": "code",
      "execution_count": 72,
      "metadata": {
        "colab": {
          "base_uri": "https://localhost:8080/"
        },
        "id": "cvRSv75N4Nn5",
        "outputId": "1ade08a4-b4aa-4118-9db5-30c509157e2b"
      },
      "outputs": [
        {
          "output_type": "stream",
          "name": "stdout",
          "text": [
            "Aashish\n",
            "ABC\n"
          ]
        }
      ],
      "source": [
        "class Student:\n",
        "    school = \"ABC\"    # Class variable\n",
        "    def __init__(self, name):\n",
        "        self.name = name   # Instance variable\n",
        "\n",
        "\n",
        "s1 = Student(\"Aashish\")\n",
        "print(s1.name)\n",
        "print(s1.school)"
      ]
    },
    {
      "cell_type": "markdown",
      "metadata": {
        "id": "80fiKOin7p2J"
      },
      "source": [
        "---\n",
        "# Q 18. What is multiple inheritance in Python?\n",
        "\n",
        "- When a class inherits from more than one parent class."
      ]
    },
    {
      "cell_type": "code",
      "execution_count": 73,
      "metadata": {
        "id": "Lb1mI8Bx74dH"
      },
      "outputs": [],
      "source": [
        "class A:\n",
        "  pass\n",
        "\n",
        "class B:\n",
        "  pass\n",
        "\n",
        "class C(A, B):\n",
        "  pass\n"
      ]
    },
    {
      "cell_type": "markdown",
      "metadata": {
        "id": "4euV4rpZ8L7P"
      },
      "source": [
        "---\n",
        "# Q 19.Explain the  Purpose of `__str__ and __repr__` methods in python ?\n",
        "\n",
        "- `__str__()` → user-friendly string (used by print())\n",
        "\n",
        "- `__repr__()` → developer-readable (used in debugging)"
      ]
    },
    {
      "cell_type": "code",
      "execution_count": 74,
      "metadata": {
        "colab": {
          "base_uri": "https://localhost:8080/"
        },
        "id": "D2g_y7Gj89ZH",
        "outputId": "b3a98a2f-bc63-4ddf-fd12-59c63cc0ba64"
      },
      "outputs": [
        {
          "output_type": "stream",
          "name": "stdout",
          "text": [
            "Book for readers\n",
            "Book(title)\n"
          ]
        }
      ],
      "source": [
        "class Book:\n",
        "\n",
        "    def __str__(self):\n",
        "      return \"Book for readers\"\n",
        "\n",
        "    def __repr__(self):\n",
        "      return \"Book(title)\"\n",
        "\n",
        "book = Book()\n",
        "print(book)\n",
        "print(book.__repr__())"
      ]
    },
    {
      "cell_type": "markdown",
      "metadata": {
        "id": "XuhkqzHm9B4W"
      },
      "source": [
        "---\n",
        "# Q 20. What is the significance of the `super()` function in python ?\n",
        "\n",
        "- Used to call parent class methods inside a child class."
      ]
    },
    {
      "cell_type": "code",
      "execution_count": 75,
      "metadata": {
        "colab": {
          "base_uri": "https://localhost:8080/"
        },
        "id": "1nORs-Xx_ixc",
        "outputId": "9dcf54a4-1178-4f45-fc15-16c82e3bd52b"
      },
      "outputs": [
        {
          "output_type": "stream",
          "name": "stdout",
          "text": [
            "Hello\n",
            "Hi\n"
          ]
        }
      ],
      "source": [
        "class A:\n",
        "    def greet(self):\n",
        "      print(\"Hello\")\n",
        "class B(A):\n",
        "    def greet(self):\n",
        "        super().greet()\n",
        "        print(\"Hi\")\n",
        "\n",
        "\n",
        "gr = B()\n",
        "gr.greet()"
      ]
    },
    {
      "cell_type": "markdown",
      "metadata": {
        "id": "uJeS2Y21_mdr"
      },
      "source": [
        "---\n",
        "#Q 21. What is the significance of the `__del__` method in Python?\n",
        "-"
      ]
    },
    {
      "cell_type": "code",
      "execution_count": 76,
      "metadata": {
        "colab": {
          "base_uri": "https://localhost:8080/"
        },
        "id": "OqL84GjxBOqN",
        "outputId": "4e891284-901b-44cc-b46e-f2aecc1a6658"
      },
      "outputs": [
        {
          "output_type": "stream",
          "name": "stdout",
          "text": [
            "Object 1 created\n",
            "Object 1 deleted\n",
            "Object 2 created\n",
            "Object 2 deleted\n"
          ]
        }
      ],
      "source": [
        "class MyClass:\n",
        "    def __init__(self, name):\n",
        "        self.name = name\n",
        "        print(f\"{self.name} created\")\n",
        "\n",
        "    def __del__(self):\n",
        "        print(f\"{self.name} deleted\")\n",
        "\n",
        "# Create an object\n",
        "obj1 = MyClass(\"Object 1\")\n",
        "\n",
        "# When the program ends, the object will also be deleted if not explicitly deleted\n",
        "obj2 = MyClass(\"Object 2\")"
      ]
    },
    {
      "cell_type": "markdown",
      "metadata": {
        "id": "2un9Muh6Bqiu"
      },
      "source": [
        "---\n",
        "#Q 22. What is the difference between @staticmethod and @classmethod in Python?\n",
        "\n",
        "1. class method\n",
        "- The first Argument is `cls`\n",
        "- Can access class-level data\n",
        "2. Static method\n",
        "- There is have no first Argument\n",
        "- Cannot access class/instance data"
      ]
    },
    {
      "cell_type": "code",
      "execution_count": 77,
      "metadata": {
        "colab": {
          "base_uri": "https://localhost:8080/"
        },
        "id": "OwrRnstOHGRL",
        "outputId": "e65c0bed-f057-46c2-8758-e3354910fd57"
      },
      "outputs": [
        {
          "output_type": "stream",
          "name": "stdout",
          "text": [
            "Aashish\n",
            "89\n",
            "3\n",
            "ABC international school \n",
            "XYZ international school\n"
          ]
        }
      ],
      "source": [
        "class Student:\n",
        "  school_name = 'ABC international school '\n",
        "\n",
        "  def __init__(self,name,marks):\n",
        "    self.name = name\n",
        "    self.marks = marks\n",
        "\n",
        "\n",
        "  @classmethod\n",
        "  def change_school(cls,new_school):\n",
        "    cls.school_name = new_school\n",
        "\n",
        "  @staticmethod\n",
        "  def static_method(a,b):\n",
        "    return a + b\n",
        "\n",
        "\n",
        "\n",
        "student1 = Student(\"Aashish\",89)\n",
        "print(student1.name)\n",
        "print(student1.marks)\n",
        "print(student1.static_method(1,2))\n",
        "print(student1.school_name)\n",
        "Student.change_school(\"XYZ international school\")\n",
        "print(student1.school_name)"
      ]
    },
    {
      "cell_type": "markdown",
      "metadata": {
        "id": "QCVWAiUgH34o"
      },
      "source": [
        "---\n",
        "#Q 23. How does polymorphism work in Python with inheritance?\n",
        "\n",
        "-  When a child class overrides a parent method, and both classes share the same method name, the correct method is chosen at runtime based on the object type."
      ]
    },
    {
      "cell_type": "code",
      "execution_count": 78,
      "metadata": {
        "colab": {
          "base_uri": "https://localhost:8080/"
        },
        "id": "tRbbif8kJfkH",
        "outputId": "48231d89-e832-4f3c-aff0-463eda05dba9"
      },
      "outputs": [
        {
          "output_type": "stream",
          "name": "stdout",
          "text": [
            "Dog barks\n",
            "Cat meows\n"
          ]
        }
      ],
      "source": [
        "class Animal:\n",
        "  def sound(self):\n",
        "    print(\"Animal make sound\")\n",
        "\n",
        "class Dog(Animal):\n",
        "  def sound(self):\n",
        "    print(\"Dog barks\")\n",
        "\n",
        "class Cat(Animal):\n",
        "  def sound(self):\n",
        "    print(\"Cat meows\")\n",
        "\n",
        "def make_sound(x):\n",
        "  x.sound()\n",
        "\n",
        "make_sound(Dog())\n",
        "make_sound(Cat())"
      ]
    },
    {
      "cell_type": "markdown",
      "metadata": {
        "id": "fk-x4nU2JkNY"
      },
      "source": [
        "---\n",
        "#Q 24. What is method chaining in Python OOP?\n",
        "- Method chaining means calling multiple methods in a single line because each method returns the object itself (return self)."
      ]
    },
    {
      "cell_type": "code",
      "execution_count": 79,
      "metadata": {
        "colab": {
          "base_uri": "https://localhost:8080/"
        },
        "id": "NoPoMDpVKzuP",
        "outputId": "d610ec40-5960-4978-8dd1-6695f7d9b1a0"
      },
      "outputs": [
        {
          "output_type": "stream",
          "name": "stdout",
          "text": [
            "100\n"
          ]
        }
      ],
      "source": [
        "class calculator:\n",
        "  def __init__(self):\n",
        "    self.value = 0\n",
        "\n",
        "  def add(self,num):\n",
        "    self.value += num\n",
        "    return self\n",
        "\n",
        "  def multiply(self,num):\n",
        "    self.value *= num\n",
        "    return self\n",
        "\n",
        "calc = calculator()\n",
        "result = calc.add(2).add(3).multiply(4).multiply(5)\n",
        "print(result.value)"
      ]
    },
    {
      "cell_type": "markdown",
      "metadata": {
        "id": "Vv15-1hCL-R2"
      },
      "source": [
        "---\n",
        "#Q 25. What is the purpose of the `__call__` method in Python?\n",
        "- If a class defines __call__(), its objects can be called like functions."
      ]
    },
    {
      "cell_type": "code",
      "execution_count": 80,
      "metadata": {
        "colab": {
          "base_uri": "https://localhost:8080/"
        },
        "id": "t_03PjadMgaT",
        "outputId": "8786c476-50e4-4504-8765-fabfb0e33c74"
      },
      "outputs": [
        {
          "output_type": "stream",
          "name": "stdout",
          "text": [
            "32\n",
            "48\n"
          ]
        }
      ],
      "source": [
        "class Multipier:\n",
        "  def __init__(self,factor):\n",
        "    self.factor = factor\n",
        "\n",
        "  def __call__(self,x):\n",
        "    return x * self.factor\n",
        "\n",
        "multiply = Multipier(8)\n",
        "print(multiply(4))\n",
        "print(multiply(6))"
      ]
    },
    {
      "cell_type": "markdown",
      "metadata": {
        "id": "JlKQbJ8_NOv5"
      },
      "source": [
        "---\n",
        "# **PRACTICAL QUESTION'S**\n",
        "---"
      ]
    },
    {
      "cell_type": "markdown",
      "metadata": {
        "id": "QtoWM6kHNcTB"
      },
      "source": [
        "# Q 1. Create a parent class Animal with a method speak() that prints a generic message.Create a child class Dog that overrides the speak() method to print \"Bark!\"."
      ]
    },
    {
      "cell_type": "code",
      "execution_count": 81,
      "metadata": {
        "colab": {
          "base_uri": "https://localhost:8080/"
        },
        "id": "UVWK9iEtQKF6",
        "outputId": "8e178fd4-d1a3-4725-c9d7-e14fc22e281d"
      },
      "outputs": [
        {
          "output_type": "stream",
          "name": "stdout",
          "text": [
            "Bark!\n"
          ]
        }
      ],
      "source": [
        "class Animal:\n",
        "  def speak(self):\n",
        "    print(\"Animal make sound\")\n",
        "\n",
        "class Dog(Animal):\n",
        "  def speak(self):\n",
        "    print(\"Bark!\")\n",
        "\n",
        "d = Dog()\n",
        "d.speak()"
      ]
    },
    {
      "cell_type": "markdown",
      "metadata": {
        "id": "IH4w_58SQr39"
      },
      "source": [
        "---\n",
        "#Q 2. Write a program to create an abstract class Shape with a method area().Derive classes Circle and Rectangle from it and implement the area() method in both."
      ]
    },
    {
      "cell_type": "code",
      "execution_count": 82,
      "metadata": {
        "colab": {
          "base_uri": "https://localhost:8080/"
        },
        "id": "1a4KDwzWRCbk",
        "outputId": "5f23efb4-6e9b-42ca-c608-9e7a9f243e00"
      },
      "outputs": [
        {
          "output_type": "stream",
          "name": "stdout",
          "text": [
            "Circle: 78.5\n",
            "Rectangle: 24\n"
          ]
        }
      ],
      "source": [
        "from abc import ABC, abstractmethod\n",
        "\n",
        "class Shape(ABC):\n",
        "    @abstractmethod\n",
        "    def area(self):\n",
        "        pass\n",
        "\n",
        "class Circle(Shape):\n",
        "    def __init__(self, r):\n",
        "        self.r = r\n",
        "    def area(self):\n",
        "        return 3.14 * self.r ** 2\n",
        "\n",
        "class Rectangle(Shape):\n",
        "    def __init__(self, l, b):\n",
        "        self.l, self.b = l, b\n",
        "    def area(self):\n",
        "        return self.l * self.b\n",
        "\n",
        "print(\"Circle:\", Circle(5).area())\n",
        "print(\"Rectangle:\", Rectangle(4, 6).area())"
      ]
    },
    {
      "cell_type": "markdown",
      "metadata": {
        "id": "b9ngAljxRx7Z"
      },
      "source": [
        "---\n",
        "#Q 3.Implement a multi-level inheritance scenario where a class Vehicle has an attribute type.Derive a class Car and further derive a class ElectricCar that adds a battery attribute."
      ]
    },
    {
      "cell_type": "code",
      "execution_count": 83,
      "metadata": {
        "colab": {
          "base_uri": "https://localhost:8080/"
        },
        "id": "xlEYLo465JVZ",
        "outputId": "d0d435fb-e9ce-4d14-9e30-b3e8198a0403"
      },
      "outputs": [
        {
          "output_type": "stream",
          "name": "stdout",
          "text": [
            "Brand: Tesla, Type: Electric, Battery: 100 kWh\n"
          ]
        }
      ],
      "source": [
        "class Vehicle:\n",
        "    def __init__(self, vtype):\n",
        "        self.vtype = vtype\n",
        "\n",
        "class Car(Vehicle):\n",
        "    def __init__(self, brand, vtype):\n",
        "        super().__init__(vtype)\n",
        "        self.brand = brand\n",
        "\n",
        "class ElectricCar(Car):\n",
        "    def __init__(self, brand, vtype, battery):\n",
        "        super().__init__(brand, vtype)\n",
        "        self.battery = battery\n",
        "\n",
        "# Example usage:\n",
        "electric_car = ElectricCar(\"Tesla\", \"Electric\", \"100 kWh\")\n",
        "print(f\"Brand: {electric_car.brand}, Type: {electric_car.vtype}, Battery: {electric_car.battery}\")"
      ]
    },
    {
      "cell_type": "markdown",
      "metadata": {
        "id": "WdWlTCo45V6f"
      },
      "source": [
        "---\n",
        "#Q 4. Demonstrate polymorphism by creating a base class Bird with a method fly().Create two derived classes Sparrow and Penguin that override the fly() method."
      ]
    },
    {
      "cell_type": "code",
      "execution_count": 84,
      "metadata": {
        "colab": {
          "base_uri": "https://localhost:8080/"
        },
        "id": "ncUgk8uC6CSl",
        "outputId": "e2327e76-98c7-4ad3-f589-1c639ba0fa8f"
      },
      "outputs": [
        {
          "output_type": "stream",
          "name": "stdout",
          "text": [
            "Birds can fly\n",
            "Sparrows can fly at high speeds\n",
            "Penguins can't fly\n"
          ]
        }
      ],
      "source": [
        "class Bird:\n",
        "    def fly(self):\n",
        "        print(\"Birds can fly\")\n",
        "\n",
        "class Sparrow(Bird):\n",
        "    def fly(self):\n",
        "        print(\"Sparrows can fly at high speeds\")\n",
        "\n",
        "class Penguin(Bird):\n",
        "    def fly(self):\n",
        "        print(\"Penguins can't fly\")\n",
        "\n",
        "\n",
        "\n",
        "# Example usage:\n",
        "bird = Bird()\n",
        "bird.fly()\n",
        "\n",
        "sparrow = Sparrow()\n",
        "sparrow.fly()\n",
        "\n",
        "penguin = Penguin()\n",
        "penguin.fly()"
      ]
    },
    {
      "cell_type": "markdown",
      "metadata": {
        "id": "aXZ-xNw7QOrl"
      },
      "source": [
        "---\n",
        "#Q 5. Write a program to demonstrate encapsulation by creating a class BankAccountwith private attributes balance and methods to deposit, withdraw, and check balance."
      ]
    },
    {
      "cell_type": "code",
      "execution_count": 85,
      "metadata": {
        "colab": {
          "base_uri": "https://localhost:8080/"
        },
        "id": "3VnfbDOLQTNW",
        "outputId": "4197d4eb-bae1-44b1-9105-00dfa939899e"
      },
      "outputs": [
        {
          "output_type": "stream",
          "name": "stdout",
          "text": [
            "Balance: 400\n"
          ]
        }
      ],
      "source": [
        "class BankAccount:\n",
        "    def __init__(self):\n",
        "        self.__balance = 0\n",
        "\n",
        "    def deposit(self, amount):\n",
        "        self.__balance += amount\n",
        "\n",
        "    def withdraw(self, amount):\n",
        "        if amount <= self.__balance:\n",
        "            self.__balance -= amount\n",
        "        else:\n",
        "            print(\"Insufficient balance\")\n",
        "\n",
        "    def get_balance(self):\n",
        "        return self.__balance\n",
        "\n",
        "acc = BankAccount()\n",
        "acc.deposit(500)\n",
        "acc.withdraw(100)\n",
        "print(\"Balance:\", acc.get_balance())"
      ]
    },
    {
      "cell_type": "markdown",
      "metadata": {
        "id": "4CAV-daZQyrk"
      },
      "source": [
        "---\n",
        "# Q 6. Demonstrate runtime polymorphism using a method play() in a base class Instrument.Derive classes Guitar and Piano that implement their own version of play()"
      ]
    },
    {
      "cell_type": "code",
      "execution_count": 86,
      "metadata": {
        "colab": {
          "base_uri": "https://localhost:8080/"
        },
        "id": "4liPXXRvQlV6",
        "outputId": "4c24a259-444b-4093-8a10-1fbb9dd189e6"
      },
      "outputs": [
        {
          "output_type": "stream",
          "name": "stdout",
          "text": [
            "play guitar\n",
            "Playing piano\n"
          ]
        }
      ],
      "source": [
        "class Instrument:\n",
        "    def play(self):\n",
        "        print(\"Instrument playing\")\n",
        "\n",
        "class Guitar(Instrument):\n",
        "    def play(self):\n",
        "        print(\"play guitar\")\n",
        "\n",
        "class Piano(Instrument):\n",
        "    def play(self):\n",
        "        print(\"Playing piano\")\n",
        "\n",
        "def play_instrument(instrument):\n",
        "    instrument.play()\n",
        "\n",
        "guitar = Guitar()\n",
        "piano = Piano()\n",
        "\n",
        "play_instrument(guitar)\n",
        "play_instrument(piano)"
      ]
    },
    {
      "cell_type": "markdown",
      "metadata": {
        "id": "uoujYjnZQqme"
      },
      "source": [
        "---\n",
        "# Q 7. Create a class MathOperations with a class method add_numbers() to add two numbers and a static method subtract_numbers() to subtract two numbers."
      ]
    },
    {
      "cell_type": "code",
      "execution_count": 87,
      "metadata": {
        "colab": {
          "base_uri": "https://localhost:8080/"
        },
        "id": "AdAEUpouRqvb",
        "outputId": "5e4bfd66-3030-4cad-d15e-dc15988572f2"
      },
      "outputs": [
        {
          "output_type": "stream",
          "name": "stdout",
          "text": [
            "15\n",
            "5\n"
          ]
        }
      ],
      "source": [
        "class Math:\n",
        "    @classmethod\n",
        "    def add_numbers(cls, a, b):\n",
        "        return a + b\n",
        "\n",
        "    @staticmethod\n",
        "    def subtract_numbers(a, b):\n",
        "        return a - b\n",
        "\n",
        "print(Math.add_numbers(10, 5))\n",
        "print(Math.subtract_numbers(10, 5))"
      ]
    },
    {
      "cell_type": "markdown",
      "metadata": {
        "id": "X_kvo2YsR0w1"
      },
      "source": [
        "---\n",
        "# Q 8. Implement a class Person with a class method to count the total number of persons created."
      ]
    },
    {
      "cell_type": "code",
      "execution_count": 88,
      "metadata": {
        "colab": {
          "base_uri": "https://localhost:8080/"
        },
        "id": "d85MkJbjR9KR",
        "outputId": "ae15bdc2-f8d9-4171-8eb5-99e34b89f3c6"
      },
      "outputs": [
        {
          "output_type": "stream",
          "name": "stdout",
          "text": [
            "Total persons: 2\n"
          ]
        }
      ],
      "source": [
        "class Person:\n",
        "    count = 0\n",
        "\n",
        "    def __init__(self, name):\n",
        "        self.name = name\n",
        "        Person.count += 1\n",
        "\n",
        "p1 = Person(\"Aashish\")\n",
        "p2 = Person(\"Riya\")\n",
        "print(\"Total persons:\", Person.count)\n"
      ]
    },
    {
      "cell_type": "markdown",
      "metadata": {
        "id": "HvB7-hdmR9Fq"
      },
      "source": [
        "---\n",
        "# Q 9.  Write a class Fraction with attributes numerator and denominator Override the `__str__` method to display the fraction as \"numerator/denominator\""
      ]
    },
    {
      "cell_type": "code",
      "execution_count": 89,
      "metadata": {
        "colab": {
          "base_uri": "https://localhost:8080/"
        },
        "id": "tf8bmk0ER9BC",
        "outputId": "b756ab0a-38d5-4d17-b00a-a2feda5da050"
      },
      "outputs": [
        {
          "output_type": "stream",
          "name": "stdout",
          "text": [
            "3/4\n"
          ]
        }
      ],
      "source": [
        "class Fraction:\n",
        "    def __init__(self, n, d):\n",
        "        self.n, self.d = n, d\n",
        "\n",
        "    def __str__(self):\n",
        "        return f\"{self.n}/{self.d}\"\n",
        "\n",
        "f = Fraction(3, 4)\n",
        "print(f)\n"
      ]
    },
    {
      "cell_type": "markdown",
      "metadata": {
        "id": "PboiRbEaR88c"
      },
      "source": [
        "---\n",
        "# Q 10. Demonstrate operator overloading by creating a class Vector and overriding the `__add__` method to add two vectors"
      ]
    },
    {
      "cell_type": "code",
      "execution_count": 90,
      "metadata": {
        "colab": {
          "base_uri": "https://localhost:8080/"
        },
        "id": "8jxmrdmHR83Q",
        "outputId": "f4661b8d-3c92-48bc-e8cb-6b0a0588478a"
      },
      "outputs": [
        {
          "output_type": "stream",
          "name": "stdout",
          "text": [
            "(4, 6)\n"
          ]
        }
      ],
      "source": [
        "class Vector:\n",
        "    def __init__(self, x, y):\n",
        "        self.x, self.y = x, y\n",
        "\n",
        "    def __add__(self, other):\n",
        "        return Vector(self.x + other.x, self.y + other.y)\n",
        "\n",
        "    def __str__(self):\n",
        "        return f\"({self.x}, {self.y})\"\n",
        "\n",
        "v1 = Vector(1, 2)\n",
        "v2 = Vector(3, 4)\n",
        "print(v1 + v2)"
      ]
    },
    {
      "cell_type": "markdown",
      "metadata": {
        "id": "bvbJfwcVR8yK"
      },
      "source": [
        "---\n",
        "# Q 11. Create a class Person with attributes name and age. Add a method greet() that prints \"Hello, my name is {name} and I am {age} years old"
      ]
    },
    {
      "cell_type": "code",
      "execution_count": 91,
      "metadata": {
        "colab": {
          "base_uri": "https://localhost:8080/"
        },
        "id": "erD1es2AR8tm",
        "outputId": "10eaacf7-3e4c-4f75-b03e-435b6d3c3672"
      },
      "outputs": [
        {
          "output_type": "stream",
          "name": "stdout",
          "text": [
            "Hello, my name is Aashish and I am 21 years old.\n"
          ]
        }
      ],
      "source": [
        "class Person:\n",
        "    def __init__(self, name, age):\n",
        "        self.name, self.age = name, age\n",
        "\n",
        "    def greet(self):\n",
        "        print(f\"Hello, my name is {self.name} and I am {self.age} years old.\")\n",
        "\n",
        "p = Person(\"Aashish\", 21)\n",
        "p.greet()"
      ]
    },
    {
      "cell_type": "markdown",
      "metadata": {
        "id": "mfLsL5hFR8oS"
      },
      "source": [
        "---\n",
        "# Q 12. Implement a class Student with attributes name and grades. Create a method average_grade() to compute the average of the grades"
      ]
    },
    {
      "cell_type": "code",
      "execution_count": 92,
      "metadata": {
        "colab": {
          "base_uri": "https://localhost:8080/"
        },
        "id": "YVLcjdGBxDIm",
        "outputId": "071fcf2c-91b7-4b88-e809-fab619cdf42c"
      },
      "outputs": [
        {
          "output_type": "stream",
          "name": "stdout",
          "text": [
            "Average: 80.0\n"
          ]
        }
      ],
      "source": [
        "class Student:\n",
        "    def __init__(self, name, grades):\n",
        "        self.name, self.grades = name, grades\n",
        "\n",
        "    def average_grade(self):\n",
        "        return sum(self.grades) / len(self.grades)\n",
        "\n",
        "s = Student(\"Aashish\", [80, 90, 70])\n",
        "print(\"Average:\", s.average_grade())\n"
      ]
    },
    {
      "cell_type": "markdown",
      "metadata": {
        "id": "FQkuD55TxEFF"
      },
      "source": [
        "---\n",
        "# Q 13. Create a class Rectangle with methods set_dimensions() to set the dimensions and area() to calculate the area."
      ]
    },
    {
      "cell_type": "code",
      "execution_count": 93,
      "metadata": {
        "colab": {
          "base_uri": "https://localhost:8080/"
        },
        "id": "AFywPiyXxtTw",
        "outputId": "db58c597-a1fc-400a-c6dd-371f79fabd8b"
      },
      "outputs": [
        {
          "output_type": "stream",
          "name": "stdout",
          "text": [
            "Area: 24\n"
          ]
        }
      ],
      "source": [
        "class Rectangle:\n",
        "    def set_dimensions(self, l, b):\n",
        "        self.l, self.b = l, b\n",
        "    def area(self):\n",
        "        return self.l * self.b\n",
        "\n",
        "r = Rectangle()\n",
        "r.set_dimensions(4, 6)\n",
        "print(\"Area:\", r.area())\n"
      ]
    },
    {
      "cell_type": "markdown",
      "metadata": {
        "id": "V-lkXDNpx62i"
      },
      "source": [
        "---\n",
        "# Q 14. Create a class Employee with a method calculate_salary() that computes the salary based on hours worked and hourly rate"
      ]
    },
    {
      "cell_type": "code",
      "execution_count": 94,
      "metadata": {
        "colab": {
          "base_uri": "https://localhost:8080/"
        },
        "id": "YrR2b2-gyvP3",
        "outputId": "789b670f-3953-46cc-b417-5ad7441698da"
      },
      "outputs": [
        {
          "output_type": "stream",
          "name": "stdout",
          "text": [
            "Total Salary: 9000\n"
          ]
        }
      ],
      "source": [
        "class Employee:\n",
        "    def calculate_salary(self, hours, rate):\n",
        "        return hours * rate\n",
        "\n",
        "class Manager(Employee):\n",
        "    def calculate_salary(self, hours, rate, bonus):\n",
        "        base = super().calculate_salary(hours, rate)\n",
        "        return base + bonus\n",
        "\n",
        "m = Manager()\n",
        "print(\"Total Salary:\", m.calculate_salary(40, 100, 5000))"
      ]
    },
    {
      "cell_type": "markdown",
      "metadata": {
        "id": "ugx_1Mi8y-h9"
      },
      "source": [
        "---\n",
        "# Q 15.Create a class Product with attributes name, price, and quantity. Implement a method total_price() that calculates the total price of the product."
      ]
    },
    {
      "cell_type": "code",
      "execution_count": 95,
      "metadata": {
        "colab": {
          "base_uri": "https://localhost:8080/"
        },
        "id": "ggw5NEe6y-br",
        "outputId": "5b3d944e-a361-4c14-a6d7-15fb1f6f5fca"
      },
      "outputs": [
        {
          "output_type": "stream",
          "name": "stdout",
          "text": [
            "Total: 100000\n"
          ]
        }
      ],
      "source": [
        "class Product:\n",
        "    def __init__(self, name, price, quantity):\n",
        "        self.name, self.price, self.quantity = name, price, quantity\n",
        "\n",
        "    def total_price(self):\n",
        "        return self.price * self.quantity\n",
        "\n",
        "p = Product(\"Laptop\", 50000, 2)\n",
        "print(\"Total:\", p.total_price())\n"
      ]
    },
    {
      "cell_type": "markdown",
      "metadata": {
        "id": "m0mglJVgy-Vd"
      },
      "source": [
        "---\n",
        "# Q 16. Create a class Animal with an abstract method sound(). Create two derived classes Cow and Sheep that implement the sound() method."
      ]
    },
    {
      "cell_type": "code",
      "execution_count": 96,
      "metadata": {
        "colab": {
          "base_uri": "https://localhost:8080/"
        },
        "id": "tqc9nSAMy-O-",
        "outputId": "e5ed26f1-b618-4f5e-b010-3830d807b88e"
      },
      "outputs": [
        {
          "output_type": "stream",
          "name": "stdout",
          "text": [
            "Moo\n",
            "Baa\n"
          ]
        }
      ],
      "source": [
        "from abc import ABC, abstractmethod\n",
        "\n",
        "class Animal(ABC):\n",
        "    @abstractmethod\n",
        "    def sound(self):\n",
        "        pass\n",
        "\n",
        "class Cow(Animal):\n",
        "    def sound(self):\n",
        "        print(\"Moo\")\n",
        "\n",
        "class Sheep(Animal):\n",
        "    def sound(self):\n",
        "        print(\"Baa\")\n",
        "\n",
        "Cow().sound()\n",
        "Sheep().sound()"
      ]
    },
    {
      "cell_type": "markdown",
      "metadata": {
        "id": "eIxV1o9wy-Hu"
      },
      "source": [
        "---\n",
        "# Q 17. Create a class Book with attributes title, author, and year_published. Add a method get_book_info() that returns a formatted string with the book's details."
      ]
    },
    {
      "cell_type": "code",
      "execution_count": 97,
      "metadata": {
        "colab": {
          "base_uri": "https://localhost:8080/"
        },
        "id": "mdJ8spSSzacE",
        "outputId": "99040fa1-8722-4eac-be10-7f92e896f07c"
      },
      "outputs": [
        {
          "output_type": "stream",
          "name": "stdout",
          "text": [
            "AI Revolution by Aashish (2025)\n"
          ]
        }
      ],
      "source": [
        "class Book:\n",
        "    def __init__(self, title, author, year):\n",
        "        self.title, self.author, self.year = title, author, year\n",
        "\n",
        "    def get_book_info(self):\n",
        "        return f\"{self.title} by {self.author} ({self.year})\"\n",
        "\n",
        "b = Book(\"AI Revolution\", \"Aashish\", 2025)\n",
        "print(b.get_book_info())"
      ]
    },
    {
      "cell_type": "markdown",
      "metadata": {
        "id": "96D1WRbhzaLd"
      },
      "source": [
        "---\n",
        "# Q 18. Create a class House with attributes address and price. Create a derived class Mansion that adds an attribute number_of_rooms."
      ]
    },
    {
      "cell_type": "code",
      "execution_count": 98,
      "metadata": {
        "colab": {
          "base_uri": "https://localhost:8080/"
        },
        "id": "gLeB4cx5zZ50",
        "outputId": "15cdbb02-a030-4833-9765-169736afd8a9"
      },
      "outputs": [
        {
          "output_type": "stream",
          "name": "stdout",
          "text": [
            "Indore 5000000 10\n"
          ]
        }
      ],
      "source": [
        "class House:\n",
        "    def __init__(self, address, price):\n",
        "        self.address, self.price = address, price\n",
        "\n",
        "class Mansion(House):\n",
        "    def __init__(self, address, price, rooms):\n",
        "        super().__init__(address, price)\n",
        "        self.rooms = rooms\n",
        "\n",
        "m = Mansion(\"Indore\", 5000000, 10)\n",
        "print(m.address, m.price, m.rooms)"
      ]
    },
    {
      "cell_type": "markdown",
      "metadata": {
        "id": "n1C1dYFD1QWP"
      },
      "source": [
        "---\n",
        "---"
      ]
    },
    {
      "cell_type": "code",
      "execution_count": 98,
      "metadata": {
        "id": "IVR_rn1E95SQ"
      },
      "outputs": [],
      "source": []
    }
  ],
  "metadata": {
    "colab": {
      "provenance": []
    },
    "kernelspec": {
      "display_name": "Python 3",
      "name": "python3"
    },
    "language_info": {
      "name": "python"
    }
  },
  "nbformat": 4,
  "nbformat_minor": 0
}